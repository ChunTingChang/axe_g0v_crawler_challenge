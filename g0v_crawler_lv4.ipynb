{
 "cells": [
  {
   "cell_type": "markdown",
   "metadata": {},
   "source": [
    "# [g0v Crawler Challenge Level #4](http://axe.g0v.tw/level/4/)\n",
    "\n",
    "# Output Format\n",
    "`[{\"town\": \"東區\", \"village\": \"東勢里\", \"name\" : \"林錦全\"}...]`"
   ]
  },
  {
   "cell_type": "code",
   "execution_count": 9,
   "metadata": {},
   "outputs": [],
   "source": [
    "import requests\n",
    "import pandas as pd\n",
    "from lxml import etree"
   ]
  },
  {
   "cell_type": "code",
   "execution_count": 11,
   "metadata": {},
   "outputs": [],
   "source": [
    "# get pages no.\n",
    "\n",
    "path_lv4 = 'http://axe-level-4.herokuapp.com/lv4/?page=1'\n",
    "\n",
    "response = requests.get(path_lv4)    \n",
    "response.encoding = 'utf8'\n",
    "html = response.text\n",
    "page = etree.HTML(html)\n",
    "\n",
    "\n",
    "page_no = int(page.xpath('/html/body/a/text()')[-1])"
   ]
  },
  {
   "cell_type": "code",
   "execution_count": 32,
   "metadata": {
    "scrolled": true
   },
   "outputs": [],
   "source": [
    "# reset url & add header\n",
    "\n",
    "path = path_lv4[:-1]\n",
    "\n",
    "resq = requests.Session()\n",
    "cok = resq.cookies.get_dict()\n",
    "info_data = []\n",
    "\n",
    "for i in range(page_no):\n",
    "    temp_path = path + str(i+1)\n",
    "    \n",
    "    header = {'Accept': 'text/html,application/xhtml+xml,application/xml;q=0.9,image/webp,image/apng,*/*;q=0.8,application/signed-exchange;v=b3;q=0.9',\n",
    "              'Accept-Encoding': 'gzip, deflate',\n",
    "              'Accept-Language': 'en-US,en;q=0.9,zh-TW;q=0.8,zh-CN;q=0.7,zh;q=0.6',\n",
    "              'Connection': 'keep-alive',\n",
    "              'Host': 'axe-level-4.herokuapp.com',\n",
    "              'Upgrade-Insecure-Requests': '1',\n",
    "              'Referer': temp_path,\n",
    "              'User-Agent': 'Mozilla/5.0 (Windows NT 10.0; Win64; x64) AppleWebKit/537.36 (KHTML, like Gecko) Chrome/80.0.3987.100 Safari/537.36'}\n",
    "\n",
    "    response = requests.get(temp_path, cookies = cok, headers = header)\n",
    "    response.encoding = 'utf8'\n",
    "    html = response.text\n",
    "    page = etree.HTML(html)\n",
    "    temp_data = (page.xpath(\"//table//td/text()\"))\n",
    "    info_data.extend(temp_data)\n",
    "    temp_data = []"
   ]
  },
  {
   "cell_type": "code",
   "execution_count": 34,
   "metadata": {},
   "outputs": [],
   "source": [
    "# remove duplicate header\n",
    "\n",
    "non_dup_data = []\n",
    "\n",
    "for i in info_data:\n",
    "    if (i != '鄉鎮') & (i != '村里') & (i != '姓名'):\n",
    "        non_dup_data.append(i)"
   ]
  },
  {
   "cell_type": "code",
   "execution_count": 35,
   "metadata": {},
   "outputs": [],
   "source": [
    "# create a list by each row of data\n",
    "\n",
    "temp_list = []\n",
    "all_list = []\n",
    "\n",
    "for ind, item in enumerate(non_dup_data):\n",
    "    ind += 1\n",
    "    if (ind % 3 == 1):\n",
    "        if len(temp_list) == 0:\n",
    "            temp_list.append(item)    \n",
    "    else:\n",
    "        temp_list.append(item)\n",
    "        \n",
    "    if len(temp_list) == 3:\n",
    "        all_list.append(temp_list)\n",
    "        temp_list = [] "
   ]
  },
  {
   "cell_type": "code",
   "execution_count": 37,
   "metadata": {},
   "outputs": [
    {
     "data": {
      "text/plain": [
       "[['宜蘭市', '神農里', '賴春旺'],\n",
       " ['宜蘭市', '民權里', '尤榮淋'],\n",
       " ['宜蘭市', '民生里', '張佑阡'],\n",
       " ['宜蘭市', '昇平里', '黃茂林'],\n",
       " ['宜蘭市', '大東里', '侯佩婷']]"
      ]
     },
     "execution_count": 37,
     "metadata": {},
     "output_type": "execute_result"
    }
   ],
   "source": [
    "all_list[:5]"
   ]
  },
  {
   "cell_type": "code",
   "execution_count": 38,
   "metadata": {},
   "outputs": [
    {
     "data": {
      "text/plain": [
       "['town', 'village', 'name']"
      ]
     },
     "execution_count": 38,
     "metadata": {},
     "output_type": "execute_result"
    }
   ],
   "source": [
    "# get the subject names\n",
    "\n",
    "title_list = ['town', 'village', 'name']\n",
    "title_list"
   ]
  },
  {
   "cell_type": "code",
   "execution_count": 39,
   "metadata": {},
   "outputs": [],
   "source": [
    "# move the list into a dict type object\n",
    "\n",
    "temp_dict = dict()\n",
    "all_dict_l = []\n",
    "\n",
    "for ind, i in enumerate(all_list):\n",
    "    for ind_mini in range(len(i)):\n",
    "        temp_dict[title_list[ind_mini]] = i[ind_mini]\n",
    "        if ind_mini == 2:\n",
    "            all_dict_l.append(temp_dict.copy()) # append\n",
    "            temp_dict = dict()"
   ]
  },
  {
   "cell_type": "code",
   "execution_count": 40,
   "metadata": {},
   "outputs": [
    {
     "data": {
      "text/plain": [
       "True"
      ]
     },
     "execution_count": 40,
     "metadata": {},
     "output_type": "execute_result"
    }
   ],
   "source": [
    "# make sure we have the right length of the data\n",
    "\n",
    "len(all_dict_l) == len(all_list)"
   ]
  },
  {
   "cell_type": "code",
   "execution_count": 41,
   "metadata": {
    "scrolled": false
   },
   "outputs": [
    {
     "name": "stdout",
     "output_type": "stream",
     "text": [
      "[{\"town\": \"宜蘭市\", \"village\": \"神農里\", \"name\": \"賴春旺\"}, {\"town\": \"宜蘭市\", \"village\": \"民權里\", \"name\": \"尤榮淋\"}, {\"town\": \"宜蘭市\", \"village\": \"民生里\", \"name\": \"張佑阡\"}, {\"town\": \"宜蘭市\", \"village\": \"昇平里\", \"name\": \"黃茂林\"}, {\"town\": \"宜蘭市\", \"village\": \"大東里\", \"name\": \"侯佩婷\"}, {\"town\": \"宜蘭市\", \"village\": \"新興里\", \"name\": \"方美珠\"}, {\"town\": \"宜蘭市\", \"village\": \"和睦里\", \"name\": \"黃文龍\"}, {\"town\": \"宜蘭市\", \"village\": \"進士里\", \"name\": \"陳正達\"}, {\"town\": \"宜蘭市\", \"village\": \"南橋里\", \"name\": \"林慶雲\"}, {\"town\": \"宜蘭市\", \"village\": \"建業里\", \"name\": \"李永\"}, {\"town\": \"宜蘭市\", \"village\": \"南津里\", \"name\": \"林聰明\"}, {\"town\": \"宜蘭市\", \"village\": \"凱旋里\", \"name\": \"林松永\"}, {\"town\": \"宜蘭市\", \"village\": \"黎明里\", \"name\": \"林正義\"}, {\"town\": \"宜蘭市\", \"village\": \"東村里\", \"name\": \"林吉雄\"}, {\"town\": \"宜蘭市\", \"village\": \"延平里\", \"name\": \"林水蓮\"}, {\"town\": \"宜蘭市\", \"village\": \"七張里\", \"name\": \"林忠勝\"}, {\"town\": \"宜蘭市\", \"village\": \"慈安里\", \"name\": \"周阿通\"}, {\"town\": \"宜蘭市\", \"village\": \"新民里\", \"name\": \"張錫昇\"}, {\"town\": \"宜蘭市\", \"village\": \"東門里\", \"name\": \"李茂庚\"}, {\"town\": \"宜蘭市\", \"village\": \"中正里\", \"name\": \"邱明芳\"}, {\"town\": \"宜蘭市\", \"village\": \"小東里\", \"name\": \"黃建樹\"}, {\"town\": \"宜蘭市\", \"village\": \"菜園里\", \"name\": \"簡茂隆\"}, {\"town\": \"宜蘭市\", \"village\": \"孝廉里\", \"name\": \"吳健義\"}, {\"town\": \"宜蘭市\", \"village\": \"新生里\", \"name\": \"黃正雄\"}, {\"town\": \"宜蘭市\", \"village\": \"茭白里\", \"name\": \"林文雄\"}, {\"town\": \"宜蘭市\", \"village\": \"北津里\", \"name\": \"吳阿松\"}, {\"town\": \"宜蘭市\", \"village\": \"梅洲里\", \"name\": \"林沂棣\"}, {\"town\": \"宜蘭市\", \"village\": \"北門里\", \"name\": \"羅碧文\"}, {\"town\": \"宜蘭市\", \"village\": \"慶和里\", \"name\": \"陳棟樑\"}, {\"town\": \"宜蘭市\", \"village\": \"鄂王里\", \"name\": \"林銘信\"}, {\"town\": \"宜蘭市\", \"village\": \"中山里\", \"name\": \"黃正次\"}, {\"town\": \"宜蘭市\", \"village\": \"西門里\", \"name\": \"郭永全\"}, {\"town\": \"宜蘭市\", \"village\": \"大道里\", \"name\": \"王紹龍\"}, {\"town\": \"宜蘭市\", \"village\": \"南門里\", \"name\": \"林承蔡\"}, {\"town\": \"宜蘭市\", \"village\": \"負郭里\", \"name\": \"劉正田\"}, {\"town\": \"宜蘭市\", \"village\": \"民族里\", \"name\": \"游泳林\"}, {\"town\": \"宜蘭市\", \"village\": \"建軍里\", \"name\": \"潘茂申\"}, {\"town\": \"宜蘭市\", \"village\": \"思源里\", \"name\": \"曾南國\"}, {\"town\": \"宜蘭市\", \"village\": \"文化里\", \"name\": \"陳志鴻\"}, {\"town\": \"宜蘭市\", \"village\": \"復興里\", \"name\": \"謝瓊玉\"}, {\"town\": \"羅東鎮\", \"village\": \"大新里\", \"name\": \"陳榮華\"}, {\"town\": \"羅東鎮\", \"village\": \"東安里\", \"name\": \"林枝松\"}, {\"town\": \"羅東鎮\", \"village\": \"新群里\", \"name\": \"林錦洋\"}, {\"town\": \"羅東鎮\", \"village\": \"羅莊里\", \"name\": \"楊川富\"}, {\"town\": \"羅東鎮\", \"village\": \"南昌里\", \"name\": \"林碧霞\"}, {\"town\": \"羅東鎮\", \"village\": \"南豪里\", \"name\": \"陳榮美\"}, {\"town\": \"羅東鎮\", \"village\": \"成功里\", \"name\": \"林聰文\"}, {\"town\": \"羅東鎮\", \"village\": \"仁德里\", \"name\": \"林啟東\"}, {\"town\": \"羅東鎮\", \"village\": \"漢民里\", \"name\": \"廖士謀\"}, {\"town\": \"羅東鎮\", \"village\": \"西安里\", \"name\": \"林忠文\"}, {\"town\": \"羅東鎮\", \"village\": \"北成里\", \"name\": \"陳忠志\"}, {\"town\": \"羅東鎮\", \"village\": \"賢文里\", \"name\": \"游本全\"}, {\"town\": \"羅東鎮\", \"village\": \"公正里\", \"name\": \"洪朝聰\"}, {\"town\": \"羅東鎮\", \"village\": \"集祥里\", \"name\": \"謝茂川\"}, {\"town\": \"羅東鎮\", \"village\": \"信義里\", \"name\": \"曾連枝\"}, {\"town\": \"羅東鎮\", \"village\": \"竹林里\", \"name\": \"黃永和\"}, {\"town\": \"羅東鎮\", \"village\": \"仁愛里\", \"name\": \"邱一峰\"}, {\"town\": \"羅東鎮\", \"village\": \"樹林里\", \"name\": \"林忠發\"}, {\"town\": \"羅東鎮\", \"village\": \"國華里\", \"name\": \"呂惠卿\"}, {\"town\": \"羅東鎮\", \"village\": \"維揚里\", \"name\": \"江添其\"}, {\"town\": \"羅東鎮\", \"village\": \"開明里\", \"name\": \"莊添鐘\"}, {\"town\": \"羅東鎮\", \"village\": \"中山里\", \"name\": \"許桂郎\"}, {\"town\": \"羅東鎮\", \"village\": \"仁和里\", \"name\": \"陳圳茂\"}, {\"town\": \"蘇澳鎮\", \"village\": \"龍德里\", \"name\": \"張文金\"}, {\"town\": \"蘇澳鎮\", \"village\": \"頂寮里\", \"name\": \"林瑞芳\"}, {\"town\": \"蘇澳鎮\", \"village\": \"永榮里\", \"name\": \"陳信夫\"}, {\"town\": \"蘇澳鎮\", \"village\": \"存仁里\", \"name\": \"蕭阿添\"}, {\"town\": \"蘇澳鎮\", \"village\": \"港邊里\", \"name\": \"林茂松\"}, {\"town\": \"蘇澳鎮\", \"village\": \"岳明里\", \"name\": \"朱范泉\"}, {\"town\": \"蘇澳鎮\", \"village\": \"隘丁里\", \"name\": \"張正榮\"}, {\"town\": \"蘇澳鎮\", \"village\": \"新城里\", \"name\": \"陳樹福\"}, {\"town\": \"蘇澳鎮\", \"village\": \"聖湖里\", \"name\": \"劉福元\"}, {\"town\": \"蘇澳鎮\", \"village\": \"蘇西里\", \"name\": \"楊光華\"}, {\"town\": \"蘇澳鎮\", \"village\": \"蘇北里\", \"name\": \"陳添琪\"}, {\"town\": \"蘇澳鎮\", \"village\": \"蘇南里\", \"name\": \"吳柏祺\"}, {\"town\": \"蘇澳鎮\", \"village\": \"蘇東里\", \"name\": \"藍蔚芬\"}, {\"town\": \"蘇澳鎮\", \"village\": \"長安里\", \"name\": \"張榴柱\"}, {\"town\": \"蘇澳鎮\", \"village\": \"永光里\", \"name\": \"劉金德\"}, {\"town\": \"蘇澳鎮\", \"village\": \"永春里\", \"name\": \"張盛國\"}, {\"town\": \"蘇澳鎮\", \"village\": \"永樂里\", \"name\": \"俞岸賓\"}, {\"town\": \"蘇澳鎮\", \"village\": \"南安里\", \"name\": \"林金源\"}, {\"town\": \"蘇澳鎮\", \"village\": \"南正里\", \"name\": \"林敏宏\"}, {\"town\": \"蘇澳鎮\", \"village\": \"南成里\", \"name\": \"張誠烋\"}, {\"town\": \"蘇澳鎮\", \"village\": \"南興里\", \"name\": \"黃金來\"}, {\"town\": \"蘇澳鎮\", \"village\": \"南寧里\", \"name\": \"楊彩緹\"}, {\"town\": \"蘇澳鎮\", \"village\": \"南建里\", \"name\": \"吳金龍\"}, {\"town\": \"蘇澳鎮\", \"village\": \"東澳里\", \"name\": \"陳德男\"}, {\"town\": \"蘇澳鎮\", \"village\": \"南強里\", \"name\": \"黃兆盛\"}, {\"town\": \"蘇澳鎮\", \"village\": \"朝陽里\", \"name\": \"李順義\"}, {\"town\": \"頭城鎮\", \"village\": \"石城里\", \"name\": \"沈安亭\"}, {\"town\": \"頭城鎮\", \"village\": \"大里里\", \"name\": \"尤添丁\"}, {\"town\": \"頭城鎮\", \"village\": \"大溪里\", \"name\": \"沈瑞雲\"}, {\"town\": \"頭城鎮\", \"village\": \"合興里\", \"name\": \"張正益\"}, {\"town\": \"頭城鎮\", \"village\": \"更新里\", \"name\": \"陳繼錫\"}, {\"town\": \"頭城鎮\", \"village\": \"外澳里\", \"name\": \"石錫煌\"}, {\"town\": \"頭城鎮\", \"village\": \"港口里\", \"name\": \"李隆吉\"}, {\"town\": \"頭城鎮\", \"village\": \"武營里\", \"name\": \"游國添\"}, {\"town\": \"頭城鎮\", \"village\": \"大坑里\", \"name\": \"陳錫華\"}, {\"town\": \"頭城鎮\", \"village\": \"城東里\", \"name\": \"游錫財\"}, {\"town\": \"頭城鎮\", \"village\": \"城北里\", \"name\": \"李木連\"}, {\"town\": \"頭城鎮\", \"village\": \"城西里\", \"name\": \"李長鎮\"}, {\"town\": \"頭城鎮\", \"village\": \"城南里\", \"name\": \"林春三\"}, {\"town\": \"頭城鎮\", \"village\": \"竹安里\", \"name\": \"陳森銘\"}, {\"town\": \"頭城鎮\", \"village\": \"新建里\", \"name\": \"劉清德\"}, {\"town\": \"頭城鎮\", \"village\": \"拔雅里\", \"name\": \"黃正來\"}, {\"town\": \"頭城鎮\", \"village\": \"福成里\", \"name\": \"鄒榮富\"}, {\"town\": \"頭城鎮\", \"village\": \"金面里\", \"name\": \"劉榮華\"}, {\"town\": \"頭城鎮\", \"village\": \"金盈里\", \"name\": \"林漢龍\"}, {\"town\": \"頭城鎮\", \"village\": \"頂埔里\", \"name\": \"邱寅次\"}, {\"town\": \"頭城鎮\", \"village\": \"下埔里\", \"name\": \"林太源\"}, {\"town\": \"頭城鎮\", \"village\": \"中崙里\", \"name\": \"蕭建明\"}, {\"town\": \"頭城鎮\", \"village\": \"二城里\", \"name\": \"張金連\"}, {\"town\": \"頭城鎮\", \"village\": \"龜山里\", \"name\": \"簡英俊\"}, {\"town\": \"礁溪鄉\", \"village\": \"白雲村\", \"name\": \"陸天賜\"}, {\"town\": \"礁溪鄉\", \"village\": \"玉石村\", \"name\": \"游松棋\"}, {\"town\": \"礁溪鄉\", \"village\": \"德陽村\", \"name\": \"林弘堅\"}, {\"town\": \"礁溪鄉\", \"village\": \"大忠村\", \"name\": \"藍三郎\"}, {\"town\": \"礁溪鄉\", \"village\": \"大義村\", \"name\": \"林祥傳\"}, {\"town\": \"礁溪鄉\", \"village\": \"六結村\", \"name\": \"林如柱\"}, {\"town\": \"礁溪鄉\", \"village\": \"二龍村\", \"name\": \"林義成\"}, {\"town\": \"礁溪鄉\", \"village\": \"時潮村\", \"name\": \"顏玉桂\"}, {\"town\": \"礁溪鄉\", \"village\": \"玉田村\", \"name\": \"游新爐\"}, {\"town\": \"礁溪鄉\", \"village\": \"三民村\", \"name\": \"林阿連\"}, {\"town\": \"礁溪鄉\", \"village\": \"林美村\", \"name\": \"游有德\"}, {\"town\": \"礁溪鄉\", \"village\": \"白鵝村\", \"name\": \"游壬癸\"}, {\"town\": \"礁溪鄉\", \"village\": \"玉光村\", \"name\": \"莊春土\"}, {\"town\": \"礁溪鄉\", \"village\": \"光武村\", \"name\": \"林文進\"}, {\"town\": \"礁溪鄉\", \"village\": \"吳沙村\", \"name\": \"賴增田\"}, {\"town\": \"礁溪鄉\", \"village\": \"龍潭村\", \"name\": \"吳文生\"}, {\"town\": \"礁溪鄉\", \"village\": \"匏崙村\", \"name\": \"黃朝明\"}, {\"town\": \"礁溪鄉\", \"village\": \"二結村\", \"name\": \"李銘達\"}, {\"town\": \"壯圍鄉\", \"village\": \"吉祥村\", \"name\": \"陳木坤\"}, {\"town\": \"壯圍鄉\", \"village\": \"美福村\", \"name\": \"李茂男\"}, {\"town\": \"壯圍鄉\", \"village\": \"新南村\", \"name\": \"林秀戀\"}, {\"town\": \"壯圍鄉\", \"village\": \"東港村\", \"name\": \"藍月梅\"}, {\"town\": \"壯圍鄉\", \"village\": \"復興村\", \"name\": \"王德山\"}, {\"town\": \"壯圍鄉\", \"village\": \"過嶺村\", \"name\": \"郭進德\"}, {\"town\": \"壯圍鄉\", \"village\": \"永鎮村\", \"name\": \"李照福\"}, {\"town\": \"壯圍鄉\", \"village\": \"忠孝村\", \"name\": \"莊朝明\"}, {\"town\": \"壯圍鄉\", \"village\": \"古亭村\", \"name\": \"鄭文展\"}, {\"town\": \"壯圍鄉\", \"village\": \"功勞村\", \"name\": \"林銖生\"}, {\"town\": \"壯圍鄉\", \"village\": \"美城村\", \"name\": \"吳橜達\"}, {\"town\": \"壯圍鄉\", \"village\": \"新社村\", \"name\": \"周汶靚\"}, {\"town\": \"壯圍鄉\", \"village\": \"大福村\", \"name\": \"陳新添\"}, {\"town\": \"壯圍鄉\", \"village\": \"古結村\", \"name\": \"賴建國\"}, {\"town\": \"員山鄉\", \"village\": \"員山村\", \"name\": \"楊榮振\"}, {\"town\": \"員山鄉\", \"village\": \"尚德村\", \"name\": \"林朝城\"}, {\"town\": \"員山鄉\", \"village\": \"惠好村\", \"name\": \"黃永乾\"}, {\"town\": \"員山鄉\", \"village\": \"七賢村\", \"name\": \"高明芳\"}, {\"town\": \"員山鄉\", \"village\": \"深溝村\", \"name\": \"謝阿牛\"}, {\"town\": \"員山鄉\", \"village\": \"蓁巷村\", \"name\": \"陳清全\"}, {\"town\": \"員山鄉\", \"village\": \"內城村\", \"name\": \"朱火金\"}, {\"town\": \"員山鄉\", \"village\": \"中華村\", \"name\": \"周文科\"}, {\"town\": \"員山鄉\", \"village\": \"永和村\", \"name\": \"陳溫良\"}, {\"town\": \"員山鄉\", \"village\": \"頭分村\", \"name\": \"石田中\"}, {\"town\": \"員山鄉\", \"village\": \"枕山村\", \"name\": \"李朝成\"}, {\"town\": \"員山鄉\", \"village\": \"同樂村\", \"name\": \"林駿愿\"}, {\"town\": \"員山鄉\", \"village\": \"湖東村\", \"name\": \"鄭金釧\"}, {\"town\": \"員山鄉\", \"village\": \"逸仙村\", \"name\": \"林春煌\"}, {\"town\": \"員山鄉\", \"village\": \"湖北村\", \"name\": \"李文添\"}, {\"town\": \"員山鄉\", \"village\": \"湖西村\", \"name\": \"張明昌\"}, {\"town\": \"冬山鄉\", \"village\": \"武淵村\", \"name\": \"林文成\"}, {\"town\": \"冬山鄉\", \"village\": \"珍珠村\", \"name\": \"林自強\"}, {\"town\": \"冬山鄉\", \"village\": \"補城村\", \"name\": \"黃安平\"}, {\"town\": \"冬山鄉\", \"village\": \"三奇村\", \"name\": \"李正雄\"}, {\"town\": \"冬山鄉\", \"village\": \"大興村\", \"name\": \"陳松根\"}, {\"town\": \"冬山鄉\", \"village\": \"東城村\", \"name\": \"黃萬金\"}, {\"town\": \"冬山鄉\", \"village\": \"香和村\", \"name\": \"許淥洲\"}, {\"town\": \"冬山鄉\", \"village\": \"南興村\", \"name\": \"賴雲坤\"}, {\"town\": \"冬山鄉\", \"village\": \"冬山村\", \"name\": \"林錦海\"}, {\"town\": \"冬山鄉\", \"village\": \"安平村\", \"name\": \"陳長義\"}, {\"town\": \"冬山鄉\", \"village\": \"太和村\", \"name\": \"游源崇\"}, {\"town\": \"冬山鄉\", \"village\": \"八寶村\", \"name\": \"賴木枝\"}, {\"town\": \"冬山鄉\", \"village\": \"丸山村\", \"name\": \"游博良\"}, {\"town\": \"冬山鄉\", \"village\": \"中山村\", \"name\": \"李振福\"}, {\"town\": \"冬山鄉\", \"village\": \"順安村\", \"name\": \"林正欽\"}, {\"town\": \"冬山鄉\", \"village\": \"永美村\", \"name\": \"詹素華\"}, {\"town\": \"冬山鄉\", \"village\": \"群英村\", \"name\": \"廖政國\"}, {\"town\": \"冬山鄉\", \"village\": \"清溝村\", \"name\": \"林興家\"}, {\"town\": \"冬山鄉\", \"village\": \"鹿埔村\", \"name\": \"江蒼文\"}, {\"town\": \"冬山鄉\", \"village\": \"得安村\", \"name\": \"陳世英\"}, {\"town\": \"冬山鄉\", \"village\": \"廣興村\", \"name\": \"曾炳茂\"}, {\"town\": \"冬山鄉\", \"village\": \"廣安村\", \"name\": \"黃順來\"}, {\"town\": \"冬山鄉\", \"village\": \"柯林村\", \"name\": \"黃正宗\"}, {\"town\": \"冬山鄉\", \"village\": \"大進村\", \"name\": \"藍細川\"}, {\"town\": \"五結鄉\", \"village\": \"三興村\", \"name\": \"沈福助\"}, {\"town\": \"五結鄉\", \"village\": \"二結村\", \"name\": \"簡汝育\"}, {\"town\": \"五結鄉\", \"village\": \"鎮安村\", \"name\": \"張朝松\"}, {\"town\": \"五結鄉\", \"village\": \"上四村\", \"name\": \"簡瑞和\"}, {\"town\": \"五結鄉\", \"village\": \"中興村\", \"name\": \"李碧真\"}, {\"town\": \"五結鄉\", \"village\": \"四結村\", \"name\": \"陳鋕淮\"}, {\"town\": \"五結鄉\", \"village\": \"福興村\", \"name\": \"張新華\"}, {\"town\": \"五結鄉\", \"village\": \"五結村\", \"name\": \"黃文宏\"}, {\"town\": \"五結鄉\", \"village\": \"大吉村\", \"name\": \"林秀英\"}, {\"town\": \"五結鄉\", \"village\": \"協和村\", \"name\": \"黃鐙山\"}, {\"town\": \"五結鄉\", \"village\": \"孝威村\", \"name\": \"林圳源\"}, {\"town\": \"五結鄉\", \"village\": \"錦眾村\", \"name\": \"邱政富\"}, {\"town\": \"五結鄉\", \"village\": \"利澤村\", \"name\": \"林何良\"}, {\"town\": \"五結鄉\", \"village\": \"成興村\", \"name\": \"張金發\"}, {\"town\": \"五結鄉\", \"village\": \"季新村\", \"name\": \"林炎坤\"}, {\"town\": \"三星鄉\", \"village\": \"員山村\", \"name\": \"周正義\"}, {\"town\": \"三星鄉\", \"village\": \"天山村\", \"name\": \"鄭玉寅\"}, {\"town\": \"三星鄉\", \"village\": \"天福村\", \"name\": \"宋隆欽\"}, {\"town\": \"三星鄉\", \"village\": \"雙賢村\", \"name\": \"楊正雄\"}, {\"town\": \"三星鄉\", \"village\": \"人和村\", \"name\": \"廖熖\"}, {\"town\": \"三星鄉\", \"village\": \"義德村\", \"name\": \"曾運玉\"}, {\"town\": \"三星鄉\", \"village\": \"集慶村\", \"name\": \"彭正賢\"}, {\"town\": \"三星鄉\", \"village\": \"月眉村\", \"name\": \"陳靜波\"}, {\"town\": \"三星鄉\", \"village\": \"拱照村\", \"name\": \"鄭阿財\"}, {\"town\": \"三星鄉\", \"village\": \"大隱村\", \"name\": \"范期勛\"}, {\"town\": \"三星鄉\", \"village\": \"行健村\", \"name\": \"吳清溪\"}, {\"town\": \"三星鄉\", \"village\": \"萬德村\", \"name\": \"陳長森\"}, {\"town\": \"三星鄉\", \"village\": \"貴林村\", \"name\": \"林定東\"}, {\"town\": \"三星鄉\", \"village\": \"萬富村\", \"name\": \"曹盛景\"}, {\"town\": \"三星鄉\", \"village\": \"大義村\", \"name\": \"鄭坤宗\"}, {\"town\": \"三星鄉\", \"village\": \"尚武村\", \"name\": \"陳慧琳\"}, {\"town\": \"三星鄉\", \"village\": \"大洲村\", \"name\": \"陳潮雄\"}, {\"town\": \"三星鄉\", \"village\": \"尾塹村\", \"name\": \"張越登\"}, {\"town\": \"大同鄉\", \"village\": \"寒溪村\", \"name\": \"胡芳榮\"}, {\"town\": \"大同鄉\", \"village\": \"崙埤村\", \"name\": \"卡文米內\"}, {\"town\": \"大同鄉\", \"village\": \"松羅村\", \"name\": \"鄧李阿菊\"}, {\"town\": \"大同鄉\", \"village\": \"復興村\", \"name\": \"陳金旺\"}, {\"town\": \"大同鄉\", \"village\": \"英士村\", \"name\": \"張阿玉\"}, {\"town\": \"大同鄉\", \"village\": \"樂水村\", \"name\": \"簡進塗\"}, {\"town\": \"大同鄉\", \"village\": \"太平村\", \"name\": \"李銘宜\"}, {\"town\": \"大同鄉\", \"village\": \"四季村\", \"name\": \"黃金海\"}, {\"town\": \"大同鄉\", \"village\": \"南山村\", \"name\": \"呂萬福\"}, {\"town\": \"大同鄉\", \"village\": \"茂安村\", \"name\": \"陳有為\"}, {\"town\": \"南澳鄉\", \"village\": \"南澳村\", \"name\": \"林昭輝\"}, {\"town\": \"南澳鄉\", \"village\": \"碧候村\", \"name\": \"蘇靈后\"}, {\"town\": \"南澳鄉\", \"village\": \"東岳村\", \"name\": \"謝昌國\"}, {\"town\": \"南澳鄉\", \"village\": \"金岳村\", \"name\": \"李忠信\"}, {\"town\": \"南澳鄉\", \"village\": \"武塔村\", \"name\": \"游約翰\"}, {\"town\": \"南澳鄉\", \"village\": \"金洋村\", \"name\": \"范守臣\"}, {\"town\": \"南澳鄉\", \"village\": \"澳花村\", \"name\": \"孔朝敏\"}]\n"
     ]
    }
   ],
   "source": [
    "# replace quotation mark, and the output is the ans we need :)\n",
    "\n",
    "print(str(all_dict_l).replace(\"'\", '\"'))"
   ]
  }
 ],
 "metadata": {
  "kernelspec": {
   "display_name": "Python 3",
   "language": "python",
   "name": "python3"
  },
  "language_info": {
   "codemirror_mode": {
    "name": "ipython",
    "version": 3
   },
   "file_extension": ".py",
   "mimetype": "text/x-python",
   "name": "python",
   "nbconvert_exporter": "python",
   "pygments_lexer": "ipython3",
   "version": "3.7.3"
  }
 },
 "nbformat": 4,
 "nbformat_minor": 2
}
